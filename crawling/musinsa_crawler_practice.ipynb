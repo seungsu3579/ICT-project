{
 "cells": [
  {
   "cell_type": "code",
   "execution_count": 1,
   "metadata": {},
   "outputs": [],
   "source": [
    "import os\n",
    "import time\n",
    "import re\n",
    "from PIL import Image\n",
    "import requests\n",
    "import urllib.request\n",
    "from bs4 import BeautifulSoup as bs\n",
    "from selenium import webdriver"
   ]
  },
  {
   "cell_type": "markdown",
   "metadata": {},
   "source": [
    "# 무신사 전체 카테고리 id 크롤링"
   ]
  },
  {
   "cell_type": "code",
   "execution_count": 2,
   "metadata": {},
   "outputs": [],
   "source": [
    "# path = \"/root/chrome_driver/chromedriver\"\n",
    "path_window = r\"/Users/seungsu/Desktop/YBIGTA/chromedriver.exe\"\n",
    "chrome_options = webdriver.ChromeOptions()\n",
    "chrome_options.add_argument(\"window-size=1920x1080\")\n",
    "# chrome_options.add_argument(\"headless\")\n",
    "\n",
    "driver = webdriver.Chrome(path_window, options=chrome_options)\n",
    "driver.implicitly_wait(3)"
   ]
  },
  {
   "cell_type": "code",
   "execution_count": 3,
   "metadata": {},
   "outputs": [],
   "source": [
    "driver.get(\"https://store.musinsa.com/app/\")"
   ]
  },
  {
   "cell_type": "code",
   "execution_count": 4,
   "metadata": {},
   "outputs": [
    {
     "name": "stdout",
     "output_type": "stream",
     "text": [
      "{'상의': {'반팔 티셔츠': 'https://store.musinsa.com/app/items/lists/001001', '긴팔 티셔츠': 'https://store.musinsa.com/app/items/lists/001010', '민소매 티셔츠': 'https://store.musinsa.com/app/items/lists/001011', '셔츠/블라우스': 'https://store.musinsa.com/app/items/lists/001002', '피케/카라 티셔츠': 'https://store.musinsa.com/app/items/lists/001003', '맨투맨/스웨트셔츠': 'https://store.musinsa.com/app/items/lists/001005', '후드 스웨트셔츠/후드 집업': 'https://store.musinsa.com/app/items/lists/001004', '니트/스웨터/카디건': 'https://store.musinsa.com/app/items/lists/001006', '베스트': 'https://store.musinsa.com/app/items/lists/001012', '기타 상의': 'https://store.musinsa.com/app/items/lists/001008'}, '아우터': {'블루종/': 'https://store.musinsa.com/app/items/lists/002001', '레더/라이더스 재킷': 'https://store.musinsa.com/app/items/lists/002002', '트러커 재킷': 'https://store.musinsa.com/app/items/lists/002017', '수트/블레이저 재킷': 'https://store.musinsa.com/app/items/lists/002003', '나일론/코치/아노락 재킷': 'https://store.musinsa.com/app/items/lists/002006', '스타디움 재킷': 'https://store.musinsa.com/app/items/lists/002004', '환절기 코트': 'https://store.musinsa.com/app/items/lists/002008', '겨울 싱글 코트': 'https://store.musinsa.com/app/items/lists/002007', '겨울 기타 코트': 'https://store.musinsa.com/app/items/lists/002009', '롱 패딩/롱 헤비 아우터': 'https://store.musinsa.com/app/items/lists/002013', '숏 패딩/숏 헤비 아우터': 'https://store.musinsa.com/app/items/lists/002012', '패딩 베스트': 'https://store.musinsa.com/app/items/lists/002016', '사파리/헌팅 재킷': 'https://store.musinsa.com/app/items/lists/002014', '기타 아우터': 'https://store.musinsa.com/app/items/lists/002015'}, '원피스': {'미니 원피스': 'https://store.musinsa.com/app/items/lists/020006', '미디 원피스': 'https://store.musinsa.com/app/items/lists/020007', '맥시 원피스': 'https://store.musinsa.com/app/items/lists/020008', '점프수트': 'https://store.musinsa.com/app/items/lists/020002'}, '바지': {'데님 팬츠': 'https://store.musinsa.com/app/items/lists/003002', '코튼 팬츠': 'https://store.musinsa.com/app/items/lists/003007', '수트 팬츠/슬랙스': 'https://store.musinsa.com/app/items/lists/003008', '트레이닝/조거 팬츠': 'https://store.musinsa.com/app/items/lists/003004', '숏 팬츠': 'https://store.musinsa.com/app/items/lists/003009', '레깅스': 'https://store.musinsa.com/app/items/lists/003005', '기타 바지': 'https://store.musinsa.com/app/items/lists/003006'}, '스커트': {'미니 스커트': 'https://store.musinsa.com/app/items/lists/022001', '미디 스커트': 'https://store.musinsa.com/app/items/lists/022002', '롱 스커트': 'https://store.musinsa.com/app/items/lists/022003'}, '가방': {'백팩': 'https://store.musinsa.com/app/items/lists/004001', '메신저/크로스 백': 'https://store.musinsa.com/app/items/lists/004002', '숄더/토트/에코 백': 'https://store.musinsa.com/app/items/lists/004003', '보스턴/드럼/더플 백': 'https://store.musinsa.com/app/items/lists/004006', '웨이스트 백': 'https://store.musinsa.com/app/items/lists/004007', '클러치/파우치': 'https://store.musinsa.com/app/items/lists/004005', '브리프케이스': 'https://store.musinsa.com/app/items/lists/004008', '캐리어': 'https://store.musinsa.com/app/items/lists/004009', '기타 가방': 'https://store.musinsa.com/app/items/lists/004012'}, '스니커즈': {'캔버스/단화': 'https://store.musinsa.com/app/items/lists/018002', '러닝화/피트니스화': 'https://store.musinsa.com/app/items/lists/018003', '농구화': 'https://store.musinsa.com/app/items/lists/018001', '기타 스니커즈': 'https://store.musinsa.com/app/items/lists/018004'}, '신발': {'구두': 'https://store.musinsa.com/app/items/lists/005014', '부츠': 'https://store.musinsa.com/app/items/lists/005011', '힐/펌프스': 'https://store.musinsa.com/app/items/lists/005012', '플랫': 'https://store.musinsa.com/app/items/lists/005017', '로퍼': 'https://store.musinsa.com/app/items/lists/005015', '보트/모카': 'https://store.musinsa.com/app/items/lists/005016', '샌들/슬리퍼': 'https://store.musinsa.com/app/items/lists/005004', '신발 용품': 'https://store.musinsa.com/app/items/lists/005005', '기타 신발': 'https://store.musinsa.com/app/items/lists/005006'}, '시계': {'디지털': 'https://store.musinsa.com/app/items/lists/006003', '쿼츠 아날로그': 'https://store.musinsa.com/app/items/lists/006004', '오토매틱 아날로그': 'https://store.musinsa.com/app/items/lists/006005', '시계 용품': 'https://store.musinsa.com/app/items/lists/006006', '기타 시계': 'https://store.musinsa.com/app/items/lists/006002'}, '모자': {'캡/야구 모자': 'https://store.musinsa.com/app/items/lists/007001', '헌팅/베레': 'https://store.musinsa.com/app/items/lists/007002', '페도라': 'https://store.musinsa.com/app/items/lists/007003', '버킷/사파리': 'https://store.musinsa.com/app/items/lists/007004', '비니': 'https://store.musinsa.com/app/items/lists/007005', '기타 모자': 'https://store.musinsa.com/app/items/lists/007006'}, '스포츠/용품': {'기능성 상의': 'https://store.musinsa.com/app/items/lists/017009', '기능성 하의': 'https://store.musinsa.com/app/items/lists/017010', '수영복/래쉬가드': 'https://store.musinsa.com/app/items/lists/017001', '수영 용품': 'https://store.musinsa.com/app/items/lists/017002', '스노우 웨어': 'https://store.musinsa.com/app/items/lists/017003', '스노우 용품': 'https://store.musinsa.com/app/items/lists/017008', '캠핑 용품': 'https://store.musinsa.com/app/items/lists/017005', '스케이트 용품': 'https://store.musinsa.com/app/items/lists/017007', '자전거 용품': 'https://store.musinsa.com/app/items/lists/017014'}, '레그웨어/속옷': {'양말': 'https://store.musinsa.com/app/items/lists/008001', '스타킹': 'https://store.musinsa.com/app/items/lists/008002', '속옷': 'https://store.musinsa.com/app/items/lists/008003', '홈웨어': 'https://store.musinsa.com/app/items/lists/008005'}, '안경': {'안경': 'https://store.musinsa.com/app/items/lists/009002', '선글라스': 'https://store.musinsa.com/app/items/lists/009001', '기타 안경': 'https://store.musinsa.com/app/items/lists/009003'}, '액세서리': {'마스크': 'https://store.musinsa.com/app/items/lists/011015', '지갑/머니클립': 'https://store.musinsa.com/app/items/lists/011008', '벨트': 'https://store.musinsa.com/app/items/lists/011007', '팔찌': 'https://store.musinsa.com/app/items/lists/011002', '반지': 'https://store.musinsa.com/app/items/lists/011003', '목걸이/펜던트': 'https://store.musinsa.com/app/items/lists/011001', '귀걸이': 'https://store.musinsa.com/app/items/lists/011005', '스카프/반다나': 'https://store.musinsa.com/app/items/lists/011014', '머플러': 'https://store.musinsa.com/app/items/lists/011010', '장갑': 'https://store.musinsa.com/app/items/lists/011011', '넥타이': 'https://store.musinsa.com/app/items/lists/011009', '키링/키케이스': 'https://store.musinsa.com/app/items/lists/011012', '뱃지/브로치': 'https://store.musinsa.com/app/items/lists/011004', '헤어 액세서리': 'https://store.musinsa.com/app/items/lists/011013', '기타 액세서리': 'https://store.musinsa.com/app/items/lists/011006'}, '디지털/테크': {'이어폰': 'https://store.musinsa.com/app/items/lists/012001', '헤드폰': 'https://store.musinsa.com/app/items/lists/012002', '스피커': 'https://store.musinsa.com/app/items/lists/012003', '케이스/슬리브': 'https://store.musinsa.com/app/items/lists/012004', '거치대/충전기': 'https://store.musinsa.com/app/items/lists/012005', '카메라/카메라 용품': 'https://store.musinsa.com/app/items/lists/012006', '기타 디지털/테크': 'https://store.musinsa.com/app/items/lists/012008'}, '생활/취미/예술': {'우산': 'https://store.musinsa.com/app/items/lists/013012', '가구/조명': 'https://store.musinsa.com/app/items/lists/013004', '침구/쿠션/담요': 'https://store.musinsa.com/app/items/lists/013006', '러그/매트/수건': 'https://store.musinsa.com/app/items/lists/013007', '디퓨저/캔들': 'https://store.musinsa.com/app/items/lists/013003', '액자/포스터': 'https://store.musinsa.com/app/items/lists/013002', '키친': 'https://store.musinsa.com/app/items/lists/013008', '문구': 'https://store.musinsa.com/app/items/lists/013005', '토이': 'https://store.musinsa.com/app/items/lists/013001', '기타 라이프': 'https://store.musinsa.com/app/items/lists/013011'}, '뷰티': {'스킨케어': 'https://store.musinsa.com/app/items/lists/015002', '메이크업': 'https://store.musinsa.com/app/items/lists/015006', '바디케어': 'https://store.musinsa.com/app/items/lists/015010', '헤어케어': 'https://store.musinsa.com/app/items/lists/015001', '네일/타투': 'https://store.musinsa.com/app/items/lists/015003', '향수/탈취': 'https://store.musinsa.com/app/items/lists/015007', '클렌징': 'https://store.musinsa.com/app/items/lists/015009', '쉐이빙/제모': 'https://store.musinsa.com/app/items/lists/015011', '다이어트/헬스': 'https://store.musinsa.com/app/items/lists/015012', '미용소품': 'https://store.musinsa.com/app/items/lists/015013', '이미용가전': 'https://store.musinsa.com/app/items/lists/015014', '덴탈케어': 'https://store.musinsa.com/app/items/lists/015015'}, '반려동물': {'반려동물 의류': 'https://store.musinsa.com/app/items/lists/021004', '반려동물 용품': 'https://store.musinsa.com/app/items/lists/021002'}, '책/음악/티켓': {'잡지/무크지': 'https://store.musinsa.com/app/items/lists/014001', '기타 컬쳐': 'https://store.musinsa.com/app/items/lists/014002'}}\n"
     ]
    }
   ],
   "source": [
    "all_nav = driver.find_element_by_css_selector(\"nav.nav_menu\")\n",
    "navs = all_nav.find_elements_by_css_selector(\"div.nav_category\")\n",
    "category = {}\n",
    "for nav in navs[1:]:\n",
    "    cat = {}\n",
    "    big = nav.find_element_by_css_selector(\"div.nav_menu_title\").find_element_by_css_selector(\"a\")\n",
    "    big.click()\n",
    "    big_cat_name = big.find_element_by_css_selector(\"strong.title\").text\n",
    "    ll = nav.find_element_by_css_selector(\"div.item_sub_menu\")\n",
    "    uls = ll.find_elements_by_css_selector(\"ul\")\n",
    "    for ul in uls:\n",
    "        al = ul.find_elements_by_css_selector(\"li\")\n",
    "        for a in al:\n",
    "            m = a.find_element_by_css_selector(\"a\")\n",
    "            h = m.get_attribute(\"href\")\n",
    "            #\n",
    "            exp = re.compile('[가-힣\\s/]*')\n",
    "            title = exp.findall(m.text)[0].strip(\" \")\n",
    "            #\n",
    "            cat[title] = h\n",
    "    \n",
    "    category[big_cat_name] = cat\n",
    "driver.close()\n",
    "print(category)"
   ]
  },
  {
   "cell_type": "code",
   "execution_count": 7,
   "metadata": {},
   "outputs": [
    {
     "name": "stdout",
     "output_type": "stream",
     "text": [
      "dict_keys(['상의', '아우터', '원피스', '바지', '스커트', '가방', '스니커즈', '신발', '시계', '모자', '스포츠/용품', '레그웨어/속옷', '안경', '액세서리', '디지털/테크', '생활/취미/예술', '뷰티', '반려동물', '책/음악/티켓'])\n"
     ]
    }
   ],
   "source": [
    "print(category.keys())"
   ]
  },
  {
   "cell_type": "code",
   "execution_count": 14,
   "metadata": {},
   "outputs": [
    {
     "name": "stdout",
     "output_type": "stream",
     "text": [
      "{'데님 팬츠': 'https://store.musinsa.com/app/items/lists/003002', '코튼 팬츠': 'https://store.musinsa.com/app/items/lists/003007', '수트 팬츠/슬랙스': 'https://store.musinsa.com/app/items/lists/003008', '트레이닝/조거 팬츠': 'https://store.musinsa.com/app/items/lists/003004', '숏 팬츠': 'https://store.musinsa.com/app/items/lists/003009', '레깅스': 'https://store.musinsa.com/app/items/lists/003005', '기타 바지': 'https://store.musinsa.com/app/items/lists/003006'}\n"
     ]
    }
   ],
   "source": [
    "print(category[\"바지\"])"
   ]
  },
  {
   "cell_type": "markdown",
   "metadata": {},
   "source": [
    "# 디렉토리 생성"
   ]
  },
  {
   "cell_type": "code",
   "execution_count": 7,
   "metadata": {},
   "outputs": [],
   "source": [
    "def check_directory(category_name, folder_path=None):\n",
    "    if folder_path == None:\n",
    "        folder_path = \"C:/Users/seungsu/Desktop/ICT-project/crawling\"\n",
    "    try:\n",
    "        os.mkdir(f\"{folder_path}/{category_name}/\")\n",
    "        print(\"Directory is created!\")\n",
    "    except:\n",
    "        print(\"Directory exist!\")"
   ]
  },
  {
   "cell_type": "markdown",
   "metadata": {},
   "source": [
    "## 페이지 Bsobj받아오기 (+header)"
   ]
  },
  {
   "cell_type": "code",
   "execution_count": 8,
   "metadata": {},
   "outputs": [],
   "source": [
    "def getBSobj(page=\"1\",category_id=\"001004\"):\n",
    "    url = f\"https://store.musinsa.com/app/items/lists/{category_id}/?category=&d_cat_cd={category_id}&u_cat_cd=&brand=&sort=pop&sub_sort=&display_cnt=90&page={page}&page_kind=category&list_kind=small&free_dlv=&ex_soldout=&sale_goods=&exclusive_yn=&price=&color=&a_cat_cd=&sex=&size=&tag=&popup=&brand_favorite_yn=&goods_favorite_yn=&blf_yn=&campaign_yn=&price1=&price2=&brand_favorite=&goods_favorite=&chk_exclusive=&chk_sale=&chk_soldout=\"\n",
    "    session = requests.Session()\n",
    "    headers = {\n",
    "        \"User-Agent\": \"Mozilla/5.0 (Macintosh; Intel Mac OS X 10_9_5) AppleWebKit 537.36 (KHTML, like Gecko) Chrome\",\n",
    "        \"Accept\": \"text/html,application/xhtml+xml,application/xml;q=0.9,image/webp,*/*;q=0.8\"\n",
    "    }\n",
    "    html = session.get(url, headers=headers).content\n",
    "    bsObj = bs(html, \"html.parser\")\n",
    "    return bsObj"
   ]
  },
  {
   "cell_type": "markdown",
   "metadata": {},
   "source": [
    "## 단일 페이지 크롤러"
   ]
  },
  {
   "cell_type": "code",
   "execution_count": 9,
   "metadata": {},
   "outputs": [],
   "source": [
    "def crawl_page(bsObj, category_name):\n",
    "    body = bsObj.find(\"ul\", {\"class\":\"snap-article-list\"})\n",
    "    all_items = body.find_all(\"li\", {\"class\":\"li_box\"})\n",
    "    for li in all_items:\n",
    "        a = li.find(\"a\", {\"class\":\"img-block\"})\n",
    "        id = a[\"href\"].lstrip(\"/app/product/detail/\").rstrip(\"/0\")\n",
    "        img = \"http:\" + a.find(\"img\")[\"data-original\"]\n",
    "        image = urllib.request.urlretrieve(img, f\"./{category_name}/{id}.png\")\n",
    "        #image resize\n",
    "        image = Image.open(f\"./{category_name}/{id}.png\")\n",
    "        resize_img = image.resize((125,125))\n",
    "        resize_img.save(f\"./{category_name}/{id}.png\")\n",
    "        \n",
    "# crawl_page(getBSobj(page=\"1\",category=\"001004\"), category_name=\"상의\")"
   ]
  },
  {
   "cell_type": "markdown",
   "metadata": {},
   "source": [
    "## 서브 카테고리 크롤러"
   ]
  },
  {
   "cell_type": "code",
   "execution_count": 10,
   "metadata": {},
   "outputs": [],
   "source": [
    "def crawl_SubCategory(main='상의', sub='반팔 티셔츠', page=3):\n",
    "    #전역변수 category\n",
    "    category_id = category[main][sub].lstrip(\"https://store.musinsa.com/app/items/lists/\")\n",
    "    for p in range(1, int(page+1)):\n",
    "        print(f\"CRAWLING\\t{main}\\t>\\t{sub} \\t\\t page = {p}\")\n",
    "        bsObj = getBSobj(page=str(p),category_id=category_id)\n",
    "        crawl_page(bsObj, category_name=main)\n",
    "        time.sleep(2)\n",
    "        "
   ]
  },
  {
   "cell_type": "code",
   "execution_count": 11,
   "metadata": {},
   "outputs": [],
   "source": [
    "# check_directory(\"상의\")\n",
    "# crawl_SubCategory()"
   ]
  },
  {
   "cell_type": "markdown",
   "metadata": {},
   "source": [
    "## 전체 카테고리 크롤러"
   ]
  },
  {
   "cell_type": "code",
   "execution_count": 13,
   "metadata": {},
   "outputs": [
    {
     "name": "stdout",
     "output_type": "stream",
     "text": [
      "Directory is created!\n",
      "CRAWLING\t바지\t>\t데님 팬츠 \t\t page = 1\n",
      "CRAWLING COMPLETE\t바지 > 데님 팬츠\n",
      "CRAWLING\t바지\t>\t코튼 팬츠 \t\t page = 1\n",
      "CRAWLING COMPLETE\t바지 > 코튼 팬츠\n",
      "CRAWLING\t바지\t>\t수트 팬츠/슬랙스 \t\t page = 1\n",
      "CRAWLING COMPLETE\t바지 > 수트 팬츠/슬랙스\n",
      "CRAWLING\t바지\t>\t트레이닝/조거 팬츠 \t\t page = 1\n",
      "CRAWLING COMPLETE\t바지 > 트레이닝/조거 팬츠\n",
      "CRAWLING\t바지\t>\t숏 팬츠 \t\t page = 1\n",
      "CRAWLING COMPLETE\t바지 > 숏 팬츠\n",
      "CRAWLING\t바지\t>\t레깅스 \t\t page = 1\n",
      "CRAWLING COMPLETE\t바지 > 레깅스\n",
      "CRAWLING\t바지\t>\t기타 바지 \t\t page = 1\n",
      "CRAWLING COMPLETE\t바지 > 기타 바지\n",
      "Directory is created!\n",
      "CRAWLING\t아우터\t>\t블루종/ \t\t page = 1\n",
      "CRAWLING COMPLETE\t아우터 > 블루종/\n",
      "CRAWLING\t아우터\t>\t레더/라이더스 재킷 \t\t page = 1\n",
      "CRAWLING COMPLETE\t아우터 > 레더/라이더스 재킷\n",
      "CRAWLING\t아우터\t>\t트러커 재킷 \t\t page = 1\n",
      "CRAWLING COMPLETE\t아우터 > 트러커 재킷\n",
      "CRAWLING\t아우터\t>\t수트/블레이저 재킷 \t\t page = 1\n",
      "CRAWLING COMPLETE\t아우터 > 수트/블레이저 재킷\n",
      "CRAWLING\t아우터\t>\t나일론/코치/아노락 재킷 \t\t page = 1\n",
      "CRAWLING COMPLETE\t아우터 > 나일론/코치/아노락 재킷\n",
      "CRAWLING\t아우터\t>\t스타디움 재킷 \t\t page = 1\n",
      "CRAWLING COMPLETE\t아우터 > 스타디움 재킷\n",
      "CRAWLING\t아우터\t>\t환절기 코트 \t\t page = 1\n",
      "CRAWLING COMPLETE\t아우터 > 환절기 코트\n",
      "CRAWLING\t아우터\t>\t겨울 싱글 코트 \t\t page = 1\n",
      "CRAWLING COMPLETE\t아우터 > 겨울 싱글 코트\n",
      "CRAWLING\t아우터\t>\t겨울 기타 코트 \t\t page = 1\n",
      "CRAWLING COMPLETE\t아우터 > 겨울 기타 코트\n",
      "CRAWLING\t아우터\t>\t롱 패딩/롱 헤비 아우터 \t\t page = 1\n",
      "CRAWLING COMPLETE\t아우터 > 롱 패딩/롱 헤비 아우터\n",
      "CRAWLING\t아우터\t>\t숏 패딩/숏 헤비 아우터 \t\t page = 1\n",
      "CRAWLING COMPLETE\t아우터 > 숏 패딩/숏 헤비 아우터\n",
      "CRAWLING\t아우터\t>\t패딩 베스트 \t\t page = 1\n",
      "CRAWLING COMPLETE\t아우터 > 패딩 베스트\n",
      "CRAWLING\t아우터\t>\t사파리/헌팅 재킷 \t\t page = 1\n",
      "CRAWLING COMPLETE\t아우터 > 사파리/헌팅 재킷\n",
      "CRAWLING\t아우터\t>\t기타 아우터 \t\t page = 1\n",
      "CRAWLING COMPLETE\t아우터 > 기타 아우터\n"
     ]
    }
   ],
   "source": [
    "def crawl_AllCategory(categories=None, page=1, folder_path=None):\n",
    "    if categories == None:\n",
    "        for category_name, contents in category.items():\n",
    "            check_directory(category_name=category_name, folder_path=folder_path)\n",
    "            for sub_category_name,n in contents.items():\n",
    "                crawl_SubCategory(main=category_name, sub=sub_category_name, page=page)\n",
    "                print(f\"CRAWLING COMPLETE\\t{category_name} > {sub_category_name}\")\n",
    "    else:\n",
    "        # categories는 category 이름 리스트로 받는다\n",
    "        for category_name in categories:\n",
    "            check_directory(category_name=category_name, folder_path=folder_path)\n",
    "            for sub_category_name,n in category[category_name].items():\n",
    "                crawl_SubCategory(main=category_name, sub=sub_category_name, page=page)\n",
    "                print(f\"CRAWLING COMPLETE\\t{category_name} > {sub_category_name}\")\n",
    "            \n",
    "crawl_AllCategory(categories=[\"바지\", \"아우터\"])"
   ]
  },
  {
   "cell_type": "code",
   "execution_count": 6,
   "metadata": {},
   "outputs": [
    {
     "ename": "OSError",
     "evalue": "[Errno 22] Invalid argument: './<built-in function id>.png'",
     "output_type": "error",
     "traceback": [
      "\u001b[1;31m---------------------------------------------------------------------------\u001b[0m",
      "\u001b[1;31mOSError\u001b[0m                                   Traceback (most recent call last)",
      "\u001b[1;32m<ipython-input-6-0981383d488f>\u001b[0m in \u001b[0;36m<module>\u001b[1;34m\u001b[0m\n\u001b[1;32m----> 1\u001b[1;33m \u001b[0murllib\u001b[0m\u001b[1;33m.\u001b[0m\u001b[0mrequest\u001b[0m\u001b[1;33m.\u001b[0m\u001b[0murlretrieve\u001b[0m\u001b[1;33m(\u001b[0m\u001b[1;34m\"http://image.msscdn.net/images/goods_img/20200401/1378259/1378259_1_125.jpg\"\u001b[0m\u001b[1;33m,\u001b[0m \u001b[1;34mf\"./{id}.png\"\u001b[0m\u001b[1;33m)\u001b[0m\u001b[1;33m\u001b[0m\u001b[1;33m\u001b[0m\u001b[0m\n\u001b[0m",
      "\u001b[1;32m~\\Anaconda3\\lib\\urllib\\request.py\u001b[0m in \u001b[0;36murlretrieve\u001b[1;34m(url, filename, reporthook, data)\u001b[0m\n\u001b[0;32m    255\u001b[0m         \u001b[1;31m# Handle temporary file setup.\u001b[0m\u001b[1;33m\u001b[0m\u001b[1;33m\u001b[0m\u001b[1;33m\u001b[0m\u001b[0m\n\u001b[0;32m    256\u001b[0m         \u001b[1;32mif\u001b[0m \u001b[0mfilename\u001b[0m\u001b[1;33m:\u001b[0m\u001b[1;33m\u001b[0m\u001b[1;33m\u001b[0m\u001b[0m\n\u001b[1;32m--> 257\u001b[1;33m             \u001b[0mtfp\u001b[0m \u001b[1;33m=\u001b[0m \u001b[0mopen\u001b[0m\u001b[1;33m(\u001b[0m\u001b[0mfilename\u001b[0m\u001b[1;33m,\u001b[0m \u001b[1;34m'wb'\u001b[0m\u001b[1;33m)\u001b[0m\u001b[1;33m\u001b[0m\u001b[1;33m\u001b[0m\u001b[0m\n\u001b[0m\u001b[0;32m    258\u001b[0m         \u001b[1;32melse\u001b[0m\u001b[1;33m:\u001b[0m\u001b[1;33m\u001b[0m\u001b[1;33m\u001b[0m\u001b[0m\n\u001b[0;32m    259\u001b[0m             \u001b[0mtfp\u001b[0m \u001b[1;33m=\u001b[0m \u001b[0mtempfile\u001b[0m\u001b[1;33m.\u001b[0m\u001b[0mNamedTemporaryFile\u001b[0m\u001b[1;33m(\u001b[0m\u001b[0mdelete\u001b[0m\u001b[1;33m=\u001b[0m\u001b[1;32mFalse\u001b[0m\u001b[1;33m)\u001b[0m\u001b[1;33m\u001b[0m\u001b[1;33m\u001b[0m\u001b[0m\n",
      "\u001b[1;31mOSError\u001b[0m: [Errno 22] Invalid argument: './<built-in function id>.png'"
     ]
    }
   ],
   "source": [
    "urllib.request.urlretrieve(\"http://image.msscdn.net/images/goods_img/20200401/1378259/1378259_1_125.jpg\", f\"./{id}.png\")"
   ]
  },
  {
   "cell_type": "code",
   "execution_count": null,
   "metadata": {},
   "outputs": [],
   "source": []
  }
 ],
 "metadata": {
  "kernelspec": {
   "display_name": "Python 3",
   "language": "python",
   "name": "python3"
  },
  "language_info": {
   "codemirror_mode": {
    "name": "ipython",
    "version": 3
   },
   "file_extension": ".py",
   "mimetype": "text/x-python",
   "name": "python",
   "nbconvert_exporter": "python",
   "pygments_lexer": "ipython3",
   "version": "3.7.4"
  }
 },
 "nbformat": 4,
 "nbformat_minor": 2
}
